{
 "cells": [
  {
   "cell_type": "code",
   "execution_count": 28,
   "metadata": {},
   "outputs": [],
   "source": [
    "import json\n",
    "from pathlib import Path\n",
    "import random\n",
    "import yaml\n",
    "import os\n",
    "\n",
    "from mtg.bot import mtg_chain\n",
    "from mtg.history import ChatHistory\n",
    "from mtg.objects import MessageType\n",
    "\n",
    "\n",
    "with open(\"configs/config.yaml\", \"r\") as infile:\n",
    "    config = yaml.load(infile, Loader=yaml.FullLoader)\n",
    "\n",
    "os.environ[\"OPENAI_API_KEY\"] = config[\"open_ai_token\"]\n",
    "\n",
    "history = ChatHistory()\n",
    "llm = mtg_chain.create_llm(model_name=\"gpt-4-0125-preview\", temperature=1.0)"
   ]
  },
  {
   "cell_type": "code",
   "execution_count": 29,
   "metadata": {},
   "outputs": [],
   "source": [
    "DATA_PATH = Path(\"../data/etl/\")\n"
   ]
  },
  {
   "cell_type": "code",
   "execution_count": 30,
   "metadata": {},
   "outputs": [],
   "source": [
    "def create_dataset(data:dict):\n",
    "    return [\n",
    "        {\n",
    "            \"question\": q[\"metadata\"][\"question\"],\n",
    "            \"ground_truth\": q[\"metadata\"][\"answer\"],\n",
    "        }\n",
    "        for q in data\n",
    "    ]\n",
    "\n",
    "\n",
    "def ask(question) -> str: \n",
    "    # create chain\n",
    "    memory = mtg_chain.create_chat_memory(llm=llm, max_token_limit=1000)\n",
    "    rules_chain = mtg_chain.create_rules_chain(llm=llm, memory=memory)\n",
    "\n",
    "    # add cards data \n",
    "    cards = history.data_service.get_cards(question, k=10, lasso_threshold=0.2)\n",
    "    _, matched_cards = history.replace_card_names_with_urls(\n",
    "        text=question, cards=cards, message_type=MessageType.RULES\n",
    "    )\n",
    "\n",
    "    # add rules data \n",
    "    rules = history.data_service.get_rules(question)\n",
    "    keywords = []\n",
    "    for card in matched_cards:\n",
    "        keywords.extend(card.keywords)\n",
    "    if keywords:\n",
    "        rules.extend(history.data_service.get_rules(\".\".join(keywords)))\n",
    "    \n",
    "    # combine rag chunks\n",
    "    contexts = []\n",
    "    for card in cards:\n",
    "        contexts.append(card.to_text(include_price=False))\n",
    "    for rule in rules:\n",
    "        contexts.append(rule.text)\n",
    "\n",
    "    answer = rules_chain.invoke(\n",
    "        {\n",
    "            \"human_input\": question,\n",
    "            \"card_data\": \"\\n\".join([card.to_text(False) for card in cards]),\n",
    "            \"rules_data\": \"\\n\".join([rule.text for rule in rules]),\n",
    "        }\n",
    "    )\n",
    "\n",
    "    return answer.content, contexts\n"
   ]
  },
  {
   "cell_type": "markdown",
   "metadata": {},
   "source": [
    "# Rulesguru"
   ]
  },
  {
   "cell_type": "code",
   "execution_count": null,
   "metadata": {},
   "outputs": [],
   "source": [
    "\n",
    "with open(DATA_PATH / \"raw/documents/rulesguru.json\", \"r\", encoding=\"utf-8\") as infile:\n",
    "    rules_guru_data = json.load(infile)"
   ]
  },
  {
   "cell_type": "code",
   "execution_count": 4,
   "metadata": {},
   "outputs": [
    {
     "name": "stderr",
     "output_type": "stream",
     "text": [
      "\u001b[38;20m2024-03-12 10:15:44,065 - mtg.history.spacy_utils - INFO - matched 2 cards: ['Hyena Pack', 'Satyr Piper'] (spacy_utils.py:97)\u001b[0m\n",
      "\u001b[38;20m2024-03-12 10:15:46,812 - mtg.history.spacy_utils - INFO - matched 2 cards: [\"Johann's Stopgap\", 'Narset, Parter of Veils'] (spacy_utils.py:97)\u001b[0m\n",
      "\u001b[38;20m2024-03-12 10:15:50,669 - mtg.history.spacy_utils - INFO - matched 3 cards: ['Karn, Legacy Reforged', 'Approach of the Second Sun', 'Karn Liberated'] (spacy_utils.py:97)\u001b[0m\n",
      "\u001b[38;20m2024-03-12 10:15:59,229 - mtg.history.spacy_utils - INFO - matched 3 cards: ['Archive Trap', 'Mindlock Orb', 'Prismatic Vista'] (spacy_utils.py:97)\u001b[0m\n",
      "\u001b[38;20m2024-03-12 10:16:04,641 - mtg.history.spacy_utils - INFO - matched 1 cards: ['Gemini Engine'] (spacy_utils.py:97)\u001b[0m\n",
      "\u001b[38;20m2024-03-12 10:16:07,567 - mtg.history.spacy_utils - INFO - matched 3 cards: ['Athreos, Shroud-Veiled', 'Dance of the Dead', 'Athreos, God of Passage'] (spacy_utils.py:97)\u001b[0m\n",
      "\u001b[38;20m2024-03-12 10:16:22,046 - mtg.history.spacy_utils - INFO - matched 3 cards: ['Mishra, Artificer Prodigy', \"Mishra's Bauble\", 'Stealer of Secrets'] (spacy_utils.py:97)\u001b[0m\n",
      "\u001b[38;20m2024-03-12 10:16:28,969 - mtg.history.spacy_utils - INFO - matched 2 cards: ['Kinsbaile Borderguard', \"Black Sun's Zenith\"] (spacy_utils.py:97)\u001b[0m\n",
      "\u001b[38;20m2024-03-12 10:16:37,278 - mtg.history.spacy_utils - INFO - matched 2 cards: ['Raphael, Fiendish Savior', 'Rite of the Serpent'] (spacy_utils.py:97)\u001b[0m\n",
      "\u001b[38;20m2024-03-12 10:16:40,650 - mtg.history.spacy_utils - INFO - matched 1 cards: ['Hall of Gemstone'] (spacy_utils.py:97)\u001b[0m\n",
      "\u001b[38;20m2024-03-12 10:16:58,816 - mtg.history.spacy_utils - INFO - matched 1 cards: ['Coral Merfolk'] (spacy_utils.py:97)\u001b[0m\n",
      "\u001b[38;20m2024-03-12 10:17:07,710 - mtg.history.spacy_utils - INFO - matched 1 cards: ['Mindblaze'] (spacy_utils.py:97)\u001b[0m\n",
      "\u001b[38;20m2024-03-12 10:17:13,959 - mtg.history.spacy_utils - INFO - matched 1 cards: ['Eternal Witness'] (spacy_utils.py:97)\u001b[0m\n",
      "\u001b[38;20m2024-03-12 10:17:20,742 - mtg.history.spacy_utils - INFO - matched 1 cards: ['Fury'] (spacy_utils.py:97)\u001b[0m\n",
      "\u001b[38;20m2024-03-12 10:17:26,830 - mtg.history.spacy_utils - INFO - matched 2 cards: ['Incinerate', \"Angel's Grace\"] (spacy_utils.py:97)\u001b[0m\n"
     ]
    },
    {
     "data": {
      "text/plain": [
       "[{'question': \"Avery controls a Moritte of the Frost that's a copy of Garruk Relentless. It has 3 loyalty counters. They activate its first ability targeting Coral Merfolk, causing it to lose 2 loyalty as it resolves. What happens next?\",\n",
       "  'ground_truth': \"The game ends in a draw unless a player chooses to interact.\\n\\nMoritte of the Frost triggers to transform itself. When the trigger resolves, it won't be able to transform since it is not a transforming double-faced card.. Since the condition is still true, the triggered ability will trigger again and so on.. This is a loop that does not change the game state and doesn't need players to make choices since all actions in it are forced. If no player wishes to interact with this (for example by destroying Moritte of the Frost while its trigger is on the stack), the game is a draw..\",\n",
       "  'answer': \"When Avery controls a Moritte of the Frost that's a copy of Garruk Relentless and it has 3 loyalty counters, activating its first ability that targets Coral Merfolk and causes it to lose 2 loyalty as it resolves will result in the following: \\n\\nThe ability of the planeswalker copy (Moritte of the Frost as Garruk Relentless) will resolve as specified, reducing its loyalty counters by 2. This means Moritte of the Frost, in its role as a planeswalker, would go from 3 loyalty counters to 1 loyalty counter. The game then continues to follow the phases or steps in which this action took place. \\n\\nSince the question specifies action happening as a result of the ability, recall that planeswalkers' loyalty is both their strength and their resource for activating abilities. Losing loyalty counters due to an ability does what the ability specifies, and the planeswalker remains on the battlefield as long as it has at least one loyalty counter. In this case, after the ability resolves, Moritte of the Frost would remain on the battlefield with 1 loyalty counter since it did not drop to 0 loyalty counters.\",\n",
       "  'context': ['Coral Merfolk\\ntype: Creature — Merfolk\\ncost: {1}{U}\\npower/toughness: 2/1\\ncolor identity: U\\n',\n",
       "   'Merfolk Coralsmith\\ntype: Creature — Merfolk\\ncost: {2}{U}\\npower/toughness: 2/3\\nkeywords: Scry\\ncolor identity: U\\n{1}: Merfolk Coralsmith gets +1/-1 until end of turn.\\nWhen Merfolk Coralsmith dies, scry 2.',\n",
       "   'Coral Merfolk\\ntype: Creature — Merfolk\\ncost: {1}{U}\\npower/toughness: 2/1\\ncolor identity: U\\n',\n",
       "   \"Coralhelm Guide\\ntype: Creature — Merfolk Scout Ally\\ncost: {1}{U}\\npower/toughness: 2/1\\ncolor identity: U\\n{4}{U}: Target creature can't be blocked this turn.\",\n",
       "   'Merfolk Assassin\\ntype: Creature — Merfolk Assassin\\ncost: {U}{U}\\npower/toughness: 1/2\\ncolor identity: U\\n{T}: Destroy target creature with islandwalk.',\n",
       "   'If the total cost to activate a loyalty ability contains multiple costs to add or remove loyalty counters, those costs are combined into a single cost to add or remove loyalty counters, as appropriate.',\n",
       "   'The number of loyalty counters on a planeswalker on the battlefield indicates how much loyalty it has. A planeswalker with 0 loyalty is put into its owner’s graveyard as a state-based action. See rule 704.',\n",
       "   'The loyalty of a planeswalker on the battlefield is equal to the number of loyalty counters on it.',\n",
       "   'Each activated ability of a planeswalker has a loyalty symbol in its cost. Positive loyalty symbols point upward and feature a plus sign followed by a number. Negative loyalty symbols point downward and feature a minus sign followed by a number or an X. Neutral loyalty symbols don’t point in either direction and feature a 0. [+N] means “Put N loyalty counters on this permanent,” [-N] means “Remove N loyalty counters from this permanent,” and [0] means “Put zero loyalty counters on this permanent.” Loyalty symbols may also appear in abilities that modify loyalty costs.',\n",
       "   'Each planeswalker card has a loyalty number printed in its lower right corner. This indicates its loyalty while it’s not on the battlefield, and it also indicates that the planeswalker enters the battlefield with that many loyalty counters on it (see rule 306.5b).']},\n",
       " {'question': 'Ainsley has to choose a card name for Mindblaze. Can they choose Vault of Catlacan?',\n",
       "  'ground_truth': \"No. The back face is a land, so its name cannot be chosen as it's not the name of a nonland card.\",\n",
       "  'answer': \"No. The back face is a land, so its name cannot be chosen as it's not the name of a nonland card.\",\n",
       "  'context': ['Mindblaze\\ntype: Sorcery\\ncost: {5}{R}\\ncolor identity: R\\nChoose a nonland card name and a number greater than 0. Target player reveals their library. If that library contains exactly the chosen number of cards with the chosen name, Mindblaze deals 8 damage to that player. Then that player shuffles.',\n",
       "   \"Brain Pry\\ntype: Sorcery\\ncost: {1}{B}\\ncolor identity: B\\nChoose a nonland card name. Target player reveals their hand. That player discards a card with that name. If they can't, you draw a card.\",\n",
       "   'Vault of the Archangel\\ntype: Land\\ncost: \\ncolor identity: B W\\n{T}: Add {C}.\\n{2}{W}{B}, {T}: Creatures you control gain deathtouch and lifelink until end of turn.',\n",
       "   \"Mind Spike\\ntype: Sorcery\\ncost: {B}\\ncolor identity: B\\nTarget opponent reveals each noncreature, nonland card in their hand. You choose a card revealed this way. That player discards that card. You lose 2 life. If they didn't reveal a card this way, you draw a card.\",\n",
       "   'Mind Shatter\\ntype: Sorcery\\ncost: {X}{B}{B}\\ncolor identity: B\\nTarget player discards X cards at random.',\n",
       "   \"Question: Ainsley has to choose a card name for Mindblaze. Can they choose Vault of Catlacan? Answer: No. The back face is a land, so its name cannot be chosen as it's not the name of a nonland card.\",\n",
       "   'If an effect instructs a player to choose a card name and the player wants to choose an adventurer card’s alternative name, the player may do so.',\n",
       "   'If an effect instructs a player to choose a card name and the player wants to choose a flip card’s alternative name, the player may do so.',\n",
       "   'Question: Noemi controls Lazav, the Multifarious, which is currently a copy of Lazav, Dimir Mastermind. Avery discards Tor Giant due to hand size at the end of their turn. Lazav, the Multifarious\\'s ability triggers. After it resolves, what is Lazav, the Multifarious named? Answer: \"Lazav, Dimir Mastermind\". Lazav, Dimir Mastermind\\'s ability changes the card\\'s name to \"Lazav, Dimir Mastermind\", regardless of what it was originally named.',\n",
       "   \"Question: Adonis has to choose a card name for Council of the Absolute. Can they choose Rune-Tail's Essence? Answer: Yes. The flipped characteristics of a flip card are used to determine the characteristics of its alternative name.\"]},\n",
       " {'question': 'Avianna controls Elspeth Conquers Death and puts the third lore counter it. With the triggered ability, they target Eternal Witness in their graveyard. When Eternal Witness returns to the battlefield, can it target Elspeth Conquers Death with its trigger?',\n",
       "  'ground_truth': \"Yes.\\n\\nWhen the final chapter ability resolves, Eternal Witness is returned to the battlefield. However, its triggered ability is not put onto the stack until after state based actions are checked. When state based actions are checked, Elspeth Conquers Death is sacrificed because is has a number of lore counters greater than or equal to its final chapter number. After this, triggers are placed onto the stack, and Elspeth Conquers Death is in the graveyard able to be the target of Eternal Witness's triggered ability.\",\n",
       "  'answer': \"Yes, when Eternal Witness returns to the battlefield due to Elspeth Conquers Death's final chapter ability, it can target Elspeth Conquers Death with its triggered ability. This is because Elspeth Conquers Death is sacrificed as a state-based action once it has the requisite number of lore counters, putting it in the graveyard before the triggered ability of Eternal Witness is put on the stack. Thus, Elspeth Conquers Death is in the graveyard and can be targeted by Eternal Witness's ability.\",\n",
       "  'context': ['Eternal Witness\\ntype: Creature — Human Shaman\\ncost: {1}{G}{G}\\npower/toughness: 2/1\\ncolor identity: G\\nWhen Eternal Witness enters the battlefield, you may return target card from your graveyard to your hand.',\n",
       "   'Eternal Witness\\ntype: Creature — Human Shaman\\ncost: {1}{G}{G}\\npower/toughness: 2/1\\ncolor identity: G\\nWhen Eternal Witness enters the battlefield, you may return target card from your graveyard to your hand.',\n",
       "   \"Timeless Witness\\ntype: Creature — Human Shaman\\ncost: {2}{G}{G}\\npower/toughness: 2/1\\nkeywords: Eternalize\\ncolor identity: G\\nWhen Timeless Witness enters the battlefield, return target card from your graveyard to your hand.\\nEternalize {5}{G}{G} ({5}{G}{G}, Exile this card from your graveyard: Create a token that's a copy of it, except it's a 4/4 black Zombie Human Shaman with no mana cost. Eternalize only as a sorcery.)\",\n",
       "   'Eternal Witness\\ntype: Creature — Human Shaman\\ncost: {1}{G}{G}\\npower/toughness: 2/1\\ncolor identity: G\\nWhen Eternal Witness enters the battlefield, you may return target card from your graveyard to your hand.',\n",
       "   'Eternal Witness\\ntype: Creature — Human Shaman\\ncost: {1}{G}{G}\\npower/toughness: 2/1\\ncolor identity: G\\nWhen Eternal Witness enters the battlefield, you may return target card from your graveyard to your hand.',\n",
       "   \"Question: Avianna controls Elspeth Conquers Death and puts the third lore counter it. With the triggered ability, they target Eternal Witness in their graveyard. When Eternal Witness returns to the battlefield, can it target Elspeth Conquers Death with its trigger? Answer: Yes.\\n\\nWhen the final chapter ability resolves, Eternal Witness is returned to the battlefield. However, its triggered ability is not put onto the stack until after state based actions are checked. When state based actions are checked, Elspeth Conquers Death is sacrificed because is has a number of lore counters greater than or equal to its final chapter number. After this, triggers are placed onto the stack, and Elspeth Conquers Death is in the graveyard able to be the target of Eternal Witness's triggered ability.\",\n",
       "   'Afterlife is a triggered ability. “Afterlife N” means “When this permanent is put into a graveyard from the battlefield, create N 1/1 white and black Spirit creature tokens with flying.”',\n",
       "   'Triggered abilities of cards with haunt that refer to the haunted creature can trigger in the exile zone.',\n",
       "   \"Question: Avianna controls Elspeth Conquers Death and puts the third lore counter it. With the triggered ability, they target Eternal Witness in their graveyard. When Eternal Witness returns to the battlefield, can it target Elspeth Conquers Death with its trigger? Answer: Yes.\\n\\nWhen the final chapter ability resolves, Eternal Witness is returned to the battlefield. However, its triggered ability is not put onto the stack until after state based actions are checked. When state based actions are checked, Elspeth Conquers Death is sacrificed because is has a number of lore counters greater than or equal to its final chapter number. After this, triggers are placed onto the stack, and Elspeth Conquers Death is in the graveyard able to be the target of Eternal Witness's triggered ability.\",\n",
       "   'A permanent has an ability whose trigger condition reads, “Whenever a land is put into a graveyard from the battlefield, . . . .” If someone casts a spell that destroys all lands, the ability will trigger once for each land put into the graveyard during the spell’s resolution.']},\n",
       " {'question': \"Alfred casts Fury, while there are no other creatures on the battlefield. Can they choose 0 targets when Fury's enters-the-battlefield triggered ability is put onto the stack?\",\n",
       "  'ground_truth': 'Yes. When instructed to choose any number of targets, zero is a legal choice. Even though Alfred is instructed to divide the damage amongst the chosen number of targets, such division only takes place if there is at least one target chosen.',\n",
       "  'answer': \"Yes, Alfred can choose 0 targets when Fury's enters-the-battlefield triggered ability is put onto the stack. The rules specify that when instructed to choose any number of targets, zero is a legal choice. Even though Alfred is instructed to divide the damage amongst the chosen number of targets, such division only takes place if there is at least one target chosen.\",\n",
       "  'context': [\"Warlord's Fury\\ntype: Sorcery\\ncost: {R}\\ncolor identity: R\\nCreatures you control gain first strike until end of turn.\\nDraw a card.\",\n",
       "   \"Warlord's Fury\\ntype: Sorcery\\ncost: {R}\\ncolor identity: R\\nCreatures you control gain first strike until end of turn.\\nDraw a card.\",\n",
       "   'Fury\\ntype: Creature — Elemental Incarnation\\ncost: {3}{R}{R}\\npower/toughness: 3/3\\nkeywords: Evoke Double strike\\ncolor identity: R\\nDouble strike\\nWhen Fury enters the battlefield, it deals 4 damage divided as you choose among any number of target creatures and/or planeswalkers.\\nEvoke—Exile a red card from your hand.',\n",
       "   'Ferocious Charge\\ntype: Instant\\ncost: {2}{G}\\nkeywords: Scry\\ncolor identity: G\\nTarget creature gets +4/+4 until end of turn. Scry 2. (Look at the top two cards of your library, then put any number of them on the bottom of your library and the rest on top in any order.)',\n",
       "   \"Fury Storm\\ntype: Instant\\ncost: {2}{R}{R}\\ncolor identity: R\\nWhen you cast this spell, copy it for each time you've cast your commander from the command zone this game. You may choose new targets for the copies.\\nCopy target instant or sorcery spell. You may choose new targets for the copy.\",\n",
       "   \"Question: Alfred casts Fury, while there are no other creatures on the battlefield. Can they choose 0 targets when Fury's enters-the-battlefield triggered ability is put onto the stack? Answer: Yes. When instructed to choose any number of targets, zero is a legal choice. Even though Alfred is instructed to divide the damage amongst the chosen number of targets, such division only takes place if there is at least one target chosen.\",\n",
       "   'If there are any triggered abilities that triggered before this process began but haven’t been put onto the stack yet, those abilities cease to exist. They won’t be put onto the stack. This rule does not apply to abilities that trigger during this process (see rule 720.1f).',\n",
       "   'If there are any triggered abilities that triggered before this process began but haven’t been put onto the stack yet, those abilities cease to exist. They won’t be put onto the stack. This rule does not apply to abilities that trigger during this process (see rule 720.2f).',\n",
       "   'If a player is instructed to surveil 0, no surveil event occurs. Abilities that trigger whenever a player surveils won’t trigger.',\n",
       "   'A spell or ability that requires targets may allow zero targets to be chosen. Such a spell or ability is still said to require targets, but that spell or ability is targeted only if one or more targets have been chosen for it.',\n",
       "   'Double strike is a static ability that modifies the rules for the combat damage step. (See rule 510, “Combat Damage Step.”)',\n",
       "   'Double Strike\\nA keyword ability that lets a creature deal its combat damage twice. See rule 702.4, “Double Strike.”',\n",
       "   'Multiple instances of double strike on the same creature are redundant.',\n",
       "   'Evoke represents two abilities: a static ability that functions in any zone from which the card with evoke can be cast and a triggered ability that functions on the battlefield. “Evoke [cost]” means “You may cast this card by paying [cost] rather than paying its mana cost” and “When this permanent enters the battlefield, if its evoke cost was paid, its controller sacrifices it.” Casting a spell for its evoke cost follows the rules for paying alternative costs in rules 601.2b and 601.2f–h.',\n",
       "   \"This ability is written as Evoke (cost) and is an alternate cost for a creature, generally far lower, with the condition that the creature must be sacrificed upon entering the battlefield.  All cards with evoke have additional effects upon entering or leaving the battlefield.  The creature's controller may choose whether the sacrifice occurs before or after the additional effect(s).Evoke appears in Lorwyn and Morningtide.\"]},\n",
       " {'question': \"Nash casts Incinerate targeting Averi, who is at 2 life. Before it resolves, Averi casts Selfless Squire, and then Angel's Grace. What happens when Incinerate resolves?\",\n",
       "  'ground_truth': \"Selfless Squire prevents the damage and triggers. Angel's Grace never applies, since the damage was never dealt. Averi remains at 2 life and Selfless Squire gets +1/+1 counters equal to the damage prevented.\\n\\n(Angel's Grace's effect is not a prevention effect, it's a replacement effect that modifies how the damage is dealt.)\",\n",
       "  'answer': \"Based on the provided rules and the scenario:\\n\\n1. Nash casts Incinerate targeting Averi, intending to deal 3 damage to Averi who is at 2 life.\\n2. Before Incinerate resolves, Averi casts Selfless Squire, a card known for its ability to prevent damage that would be dealt to its controller and put that many +1/+1 counters on itself. This action will prevent the damage of Incinerate.\\n3. Averi then casts Angel's Grace, an instant with split second that states the player casting it can't lose the game this turn and their opponents can't win the game this turn. Moreover, it ensures that any damage that would reduce the player's life total to less than one reduces it to one instead. However, since the damage is being prevented by Selfless Squire, Angel's Grace's effect regarding damage does not apply here.\\n\\nWhen Incinerate resolves:\\n- The damage it would have dealt is prevented by Selfless Squire's effect. Consequently, Selfless Squire would receive +1/+1 counters equal to the damage prevented, in this case, 3.\\n- Angel's Grace's modification of how damage is dealt does not apply, as the damage is prevented before it could have an effect on Averi’s life total.\\n\\nAveri remains at 2 life, unaffected by Incinerate due to the successful prevention of damage by Selfless Squire. Angel's Grace's effect regarding damage not reducing the player's life total to less than one does not come into play in this specific instance.\",\n",
       "  'context': [\"Incinerate\\ntype: Instant\\ncost: {1}{R}\\ncolor identity: R\\nIncinerate deals 3 damage to any target. A creature dealt damage this way can't be regenerated this turn.\",\n",
       "   'Incinerator of the Guilty\\ntype: Creature — Dragon\\ncost: {4}{R}{R}\\npower/toughness: 6/6\\nkeywords: Flying Trample\\ncolor identity: R\\nFlying, trample\\nWhenever Incinerator of the Guilty deals combat damage to a player, you may collect evidence X. When you do, Incinerator of the Guilty deals X damage to each creature and planeswalker that player controls. (To collect evidence X, exile cards with total mana value X or greater from your graveyard.)',\n",
       "   \"Angel's Grace\\ntype: Instant\\ncost: {W}\\nkeywords: Split second\\ncolor identity: W\\nSplit second (As long as this spell is on the stack, players can't cast spells or activate abilities that aren't mana abilities.)\\nYou can't lose the game this turn and your opponents can't win the game this turn. Until end of turn, damage that would reduce your life total to less than 1 reduces it to 1 instead.\",\n",
       "   \"Avenging Angel\\ntype: Creature — Angel\\ncost: {3}{W}{W}\\npower/toughness: 3/3\\nkeywords: Flying\\ncolor identity: W\\nFlying\\nWhen Avenging Angel dies, you may put it on top of its owner's library.\",\n",
       "   'Settle the Wreckage\\ntype: Instant\\ncost: {2}{W}{W}\\ncolor identity: W\\nExile all attacking creatures target player controls. That player may search their library for that many basic land cards, put those cards onto the battlefield tapped, then shuffle.',\n",
       "   \"Question: Nash casts Incinerate targeting Averi, who is at 2 life. Before it resolves, Averi casts Selfless Squire, and then Angel's Grace. What happens when Incinerate resolves? Answer: Selfless Squire prevents the damage and triggers. Angel's Grace never applies, since the damage was never dealt. Averi remains at 2 life and Selfless Squire gets +1/+1 counters equal to the damage prevented.\\n\\n(Angel's Grace's effect is not a prevention effect, it's a replacement effect that modifies how the damage is dealt.)\",\n",
       "   'When an instant spell resolves, the actions stated in its rules text are followed. Then it’s put into its owner’s graveyard.',\n",
       "   \"Question: Nash casts Incinerate targeting Averi, who is at 2 life. Before it resolves, Averi casts Selfless Squire, and then Angel's Grace. What happens when Incinerate resolves? Answer: Selfless Squire prevents the damage and triggers. Angel's Grace never applies, since the damage was never dealt. Averi remains at 2 life and Selfless Squire gets +1/+1 counters equal to the damage prevented.\\n\\n(Angel's Grace's effect is not a prevention effect, it's a replacement effect that modifies how the damage is dealt.)\",\n",
       "   \"Question: Allyson casts Unlicensed Disintegration targeting Nico's Dryad Militant. In which zone is Unlicensed Disintegration after resolution? Answer: In Allyson's graveyard. Putting Unlicensed Disintegration into Allyson's graveyard is the last part of its resolution. It therefore happens after Dryad Militant has already been destroyed and is no longer on the battlefield, its effect does not apply anymore.\",\n",
       "   'If an instant spell, sorcery spell, or ability that can legally resolve leaves the stack once it starts to resolve, it will continue to resolve fully.',\n",
       "   'Split second is a static ability that functions only while the spell with split second is on the stack. “Split second” means “As long as this spell is on the stack, players can’t cast other spells or activate abilities that aren’t mana abilities.”',\n",
       "   'Split Second\\nA keyword ability that makes it nearly impossible for a player to respond to a spell. See rule 702.61, “Split Second.”',\n",
       "   'Multiple instances of split second on the same spell are redundant.',\n",
       "   'While a spell with split second is on the stack, players cannot cast spells or activate non-mana abilities.  Triggered abilities and certain special actions that do not use the stack (such as un-morphing a face-down permanent) can be played as normal.  Split second is similar to the defunct interrupt card type, except that a card with split second cannot be cast while another card with split second is on the stack, whereas one interrupt card could be played in response to another.  Split second appears in the Time Spiral block.',\n",
       "   'Players may activate mana abilities and take special actions while a spell with split second is on the stack. Triggered abilities trigger and are put on the stack as normal while a spell with split second is on the stack.']}]"
      ]
     },
     "execution_count": 4,
     "metadata": {},
     "output_type": "execute_result"
    }
   ],
   "source": [
    "levels = [\"0\", \"1\", \"2\"]\n",
    "number_of_questions = 5 \n",
    "\n",
    "full_dataset = {}\n",
    "for level in levels:\n",
    "    full_dataset[f\"level_{level}\"] = []\n",
    "    filtered_data = [d for d in rules_guru_data if d[\"metadata\"][\"level\"] == level]\n",
    "    filtered_data = random.choices(filtered_data, k=number_of_questions)\n",
    "    dataset = create_dataset(filtered_data)\n",
    "    for document in dataset:\n",
    "        answer, context = ask(document[\"question\"])\n",
    "        document[\"answer\"] = answer \n",
    "        document[\"contexts\"] = context\n",
    "        full_dataset[f\"level_{level}\"].append(document)"
   ]
  },
  {
   "cell_type": "code",
   "execution_count": null,
   "metadata": {},
   "outputs": [],
   "source": [
    "with open(\n",
    "    DATA_PATH / \"processed/evaluation/rulesguru.json\", \"w\", encoding=\"utf-8\"\n",
    ") as outfile:\n",
    "    json.dump(full_dataset, outfile)"
   ]
  },
  {
   "cell_type": "markdown",
   "metadata": {},
   "source": [
    "# Stackexchange"
   ]
  },
  {
   "cell_type": "code",
   "execution_count": 11,
   "metadata": {},
   "outputs": [],
   "source": [
    "with open(DATA_PATH / \"processed/documents/stackexchange.json\", \"r\", encoding=\"utf-8\") as infile:\n",
    "    stackexchange_data = json.load(infile)"
   ]
  },
  {
   "cell_type": "code",
   "execution_count": 19,
   "metadata": {},
   "outputs": [
    {
     "name": "stderr",
     "output_type": "stream",
     "text": [
      "\u001b[38;20m2024-03-12 10:46:08,434 - mtg.history.spacy_utils - INFO - matched 0 cards: [] (spacy_utils.py:97)\u001b[0m\n",
      "\u001b[38;20m2024-03-12 10:46:21,861 - mtg.history.spacy_utils - INFO - matched 2 cards: ['Shipbreaker Kraken', 'Mutavault'] (spacy_utils.py:97)\u001b[0m\n",
      "\u001b[38;20m2024-03-12 10:46:28,410 - mtg.history.spacy_utils - INFO - matched 0 cards: [] (spacy_utils.py:97)\u001b[0m\n",
      "\u001b[38;20m2024-03-12 10:46:34,885 - mtg.history.spacy_utils - INFO - matched 0 cards: [] (spacy_utils.py:97)\u001b[0m\n",
      "\u001b[38;20m2024-03-12 10:46:42,013 - mtg.history.spacy_utils - INFO - matched 2 cards: ['Sliver Overlord', \"Conjurer's Closet\"] (spacy_utils.py:97)\u001b[0m\n"
     ]
    }
   ],
   "source": [
    "number_of_questions, full_dataset = 5, {}\n",
    "\n",
    "full_dataset[f\"stackexchange\"] = []\n",
    "filtered_data = random.choices(stackexchange_data, k=number_of_questions)\n",
    "dataset = create_dataset(filtered_data)\n",
    "for document in dataset:\n",
    "    answer, context = ask(document[\"question\"])\n",
    "    document[\"answer\"] = answer \n",
    "    document[\"contexts\"] = context\n",
    "    full_dataset[f\"stackexchange\"].append(document)"
   ]
  },
  {
   "cell_type": "code",
   "execution_count": 20,
   "metadata": {},
   "outputs": [],
   "source": [
    "with open(\n",
    "    DATA_PATH / \"processed/evaluation/stackexchange.json\", \"w\", encoding=\"utf-8\"\n",
    ") as outfile:\n",
    "    json.dump(full_dataset, outfile)\n"
   ]
  },
  {
   "cell_type": "markdown",
   "metadata": {},
   "source": [
    "# Expert Knowledge"
   ]
  },
  {
   "cell_type": "code",
   "execution_count": 31,
   "metadata": {},
   "outputs": [
    {
     "data": {
      "text/plain": [
       "[{'question': 'If I control Solphim, Mayhem Dominus and Imodane, the Pyrohammer, and I target an opponent’s creature with a burn spell what happens?',\n",
       "  'answer': 'The damage of the burn spell gets doubled because of Solphim, Mayhem Dominus. Then Imodane will deal that much damage to every opponent. Solphim, Mayhem Dominus triggered ability acts as a replacement effect for the damage of the burn spell.'},\n",
       " {'question': \"what happens to Urza's Saga when Blood Moon is played?\",\n",
       "  'answer': \"Saga's as a rule are sacrificed as a state based action when the number of counters are equal or greater than the number of chapter abilities (and as long as there isn't a related chapter trigger on the stack). So when Urzas saga loses all of it's abilities due to blood moon or a similar effect it's a saga with zero chapter abilities. Which means it's sacrificed as a state based action.\"},\n",
       " {'question': 'What happens if i controll two creatures and Repercussion and my opponent controlls 2 creatures. We both have 20 life. Then i play Blasphemous Act. Do i win the game?',\n",
       "  'answer': 'Blasphemous Act deals 13 damage to every creature and Repercussion would deal 26 damage to you and your opponent. You can choose the order in which the damage will be dealt. Therefore, if you choose your opponent to take the damage first you win the game.'},\n",
       " {'question': 'is it possible to Splice Overblaze onto Blazing Shoal?',\n",
       "  'answer': 'You can do that as the static ability to splice a card onto another can be activated as you cast a spell and before you pay any manacosts. So, you announce to cast the Shoal, activate the splice ability of the Overblaze in your hand, revealing and then proceede to pay all costs, which also includes exiling the Overblaze.'},\n",
       " {'question': \"When I cast Sudden Spoiling, that triggers Saruman of Many Colors, allowing me to exile an Opt from an opponent's graveyard. Can I cast the copy of Opt I get from Saruman's effect with Sudden Spoiling on the stack?\",\n",
       "  'answer': 'No, you can not cast Opt because of Split second. Only triggered abilities would go on the stack. Sarumans ability says you may cast the copy and this is not possible because of split second. If it would be a triggered ability that does not involve to cast a card the ability would be on the stack.'},\n",
       " {'question': 'If I have Pantlaza, Sun-Favored and Displaced Dinosaurs in play, and I create a treasure, does Pantlaza, Sun-Favored trigger?',\n",
       "  'answer': 'Because of Displaced Dinosaurs the Treasure would come into play as a 7/7 Dinosaur that would trigger Pantlaza, Sun-Favored and you may discover for 7.'},\n",
       " {'question': 'What happens when Teysa Karlov dies and Ratadrabik of Urborg is on the battlefield?',\n",
       "  'answer': 'Teysa Karlov ability would trigger and double the Token that Ratadrabik creates. Ratadrabik creates two tokens of Teysa.'}]"
      ]
     },
     "execution_count": 31,
     "metadata": {},
     "output_type": "execute_result"
    }
   ],
   "source": [
    "with open(DATA_PATH / \"raw/documents/expert_knowledge.json\", \"r\", encoding=\"utf-8\") as infile:\n",
    "    expert_data = json.load(infile)\n",
    "expert_data"
   ]
  },
  {
   "cell_type": "code",
   "execution_count": 32,
   "metadata": {},
   "outputs": [
    {
     "name": "stderr",
     "output_type": "stream",
     "text": [
      "\u001b[38;20m2024-03-12 11:03:36,995 - mtg.history.spacy_utils - INFO - matched 1 cards: ['Imodane, the Pyrohammer'] (spacy_utils.py:97)\u001b[0m\n",
      "\u001b[38;20m2024-03-12 11:03:53,273 - mtg.history.spacy_utils - INFO - matched 2 cards: [\"Urza's Rage\", 'Blood Moon'] (spacy_utils.py:97)\u001b[0m\n",
      "\u001b[38;20m2024-03-12 11:04:01,982 - mtg.history.spacy_utils - INFO - matched 2 cards: ['Repercussion', 'Blasphemous Act'] (spacy_utils.py:97)\u001b[0m\n",
      "\u001b[38;20m2024-03-12 11:04:42,842 - mtg.history.spacy_utils - INFO - matched 2 cards: ['Blazing Shoal', 'Overblaze'] (spacy_utils.py:97)\u001b[0m\n",
      "\u001b[38;20m2024-03-12 11:04:54,495 - mtg.history.spacy_utils - INFO - matched 2 cards: ['Sudden Spoiling', 'Saruman of Many Colors'] (spacy_utils.py:97)\u001b[0m\n",
      "\u001b[38;20m2024-03-12 11:05:07,742 - mtg.history.spacy_utils - INFO - matched 1 cards: ['Pantlaza, Sun-Favored'] (spacy_utils.py:97)\u001b[0m\n",
      "\u001b[38;20m2024-03-12 11:05:14,805 - mtg.history.spacy_utils - INFO - matched 4 cards: ['Teysa, Opulent Oligarch', 'Ratadrabik of Urborg', 'Teysa, Envoy of Ghosts', 'Teysa Karlov'] (spacy_utils.py:97)\u001b[0m\n"
     ]
    }
   ],
   "source": [
    "full_dataset = {}\n",
    "full_dataset[f\"expert_knowledge\"] = []\n",
    "\n",
    "for document in expert_data:\n",
    "    document[\"ground_truth\"] = document[\"answer\"]\n",
    "    answer, context = ask(document[\"question\"])\n",
    "    document[\"answer\"] = answer \n",
    "    document[\"contexts\"] = context\n",
    "    full_dataset[f\"expert_knowledge\"].append(document)"
   ]
  },
  {
   "cell_type": "code",
   "execution_count": 24,
   "metadata": {},
   "outputs": [],
   "source": [
    "with open(\n",
    "    DATA_PATH / \"processed/evaluation/expert_knowledge.json\", \"w\", encoding=\"utf-8\"\n",
    ") as outfile:\n",
    "    json.dump(full_dataset, outfile)\n"
   ]
  },
  {
   "cell_type": "code",
   "execution_count": null,
   "metadata": {},
   "outputs": [],
   "source": [
    "other_questions = [\n",
    "    \"Can you explain how the stack works in Magic: The Gathering?\",\n",
    "    \"What happens if I cast a spell with lifelink and my opponent counters it?\",\n",
    "    \"If I control two 'Platinum Angel' cards and lose life below zero, do I lose the game?\",\n",
    "    \"How does 'double strike' work when combined with 'trample'?\",\n",
    "    \"How does 'deathtouch' work when combined with 'trample'?\",\n",
    "    \"What are the rules for assigning damage to multiple blockers?\",\n",
    "    \"Can I activate an ability of a creature the turn it comes into play?\",\n",
    "    \"How do 'hexproof' and 'shroud' differ in Magic: The Gathering?\",\n",
    "    \"What happens if a card's ability triggers during my opponent's end step?\",\n",
    "    \"If I have 'Leyline of Sanctity' in play, can my opponent target me with discard spells?\",\n",
    "    \"Can you explain how 'indestructible' and 'destroy' effects interact?\",\n",
    "    \"Can you explain the basics of how to play Magic?\",\n",
    "]\n",
    "\n"
   ]
  },
  {
   "cell_type": "code",
   "execution_count": null,
   "metadata": {},
   "outputs": [],
   "source": []
  }
 ],
 "metadata": {
  "kernelspec": {
   "display_name": ".venv",
   "language": "python",
   "name": "python3"
  },
  "language_info": {
   "codemirror_mode": {
    "name": "ipython",
    "version": 3
   },
   "file_extension": ".py",
   "mimetype": "text/x-python",
   "name": "python",
   "nbconvert_exporter": "python",
   "pygments_lexer": "ipython3",
   "version": "3.11.7"
  }
 },
 "nbformat": 4,
 "nbformat_minor": 2
}
