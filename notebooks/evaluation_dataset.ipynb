{
 "cells": [
  {
   "cell_type": "code",
   "execution_count": 1,
   "metadata": {},
   "outputs": [
    {
     "name": "stderr",
     "output_type": "stream",
     "text": [
      "2024-12-08 11:38:28.716 WARNING streamlit.runtime.scriptrunner_utils.script_run_context: Thread 'MainThread': missing ScriptRunContext! This warning can be ignored when running in bare mode.\n",
      "2024-12-08 11:38:28.720 WARNING streamlit.runtime.scriptrunner_utils.script_run_context: Thread 'MainThread': missing ScriptRunContext! This warning can be ignored when running in bare mode.\n",
      "2024-12-08 11:38:28.721 WARNING streamlit.runtime.state.session_state_proxy: Session state does not function when running a script without `streamlit run`\n",
      "2024-12-08 11:38:30.892 WARNING streamlit.runtime.scriptrunner_utils.script_run_context: Thread 'MainThread': missing ScriptRunContext! This warning can be ignored when running in bare mode.\n",
      "2024-12-08 11:38:30.893 WARNING streamlit.runtime.scriptrunner_utils.script_run_context: Thread 'MainThread': missing ScriptRunContext! This warning can be ignored when running in bare mode.\n",
      "2024-12-08 11:38:30.893 WARNING streamlit.runtime.scriptrunner_utils.script_run_context: Thread 'MainThread': missing ScriptRunContext! This warning can be ignored when running in bare mode.\n",
      "2024-12-08 11:38:31.217 \n",
      "  \u001b[33m\u001b[1mWarning:\u001b[0m to view this Streamlit app on a browser, run it with the following\n",
      "  command:\n",
      "\n",
      "    streamlit run c:\\Users\\flori\\Documents\\projects\\mtg_bot\\planeswalker_companion\\.venv\\Lib\\site-packages\\ipykernel_launcher.py [ARGUMENTS]\n",
      "2024-12-08 11:38:31.218 Thread 'MainThread': missing ScriptRunContext! This warning can be ignored when running in bare mode.\n"
     ]
    }
   ],
   "source": [
    "from langfuse import Langfuse\n",
    "from mtg.utils import load_config\n",
    "\n",
    "\n",
    "config = load_config(\"configs/config.yaml\")\n",
    "\n",
    "\n",
    "langfuse = Langfuse()\n"
   ]
  },
  {
   "cell_type": "code",
   "execution_count": null,
   "metadata": {},
   "outputs": [
    {
     "data": {
      "text/plain": [
       "Dataset(id='cm4fh468k001ril4ykmq1n9u8', name='expert_questions', description='Important questions from reddit or from app users.', metadata=None, project_id='cm3ylkdoi01jmo73cji7tla2w', created_at=datetime.datetime(2024, 12, 8, 10, 41, 20, 87000, tzinfo=datetime.timezone.utc), updated_at=datetime.datetime(2024, 12, 8, 10, 41, 20, 87000, tzinfo=datetime.timezone.utc))"
      ]
     },
     "execution_count": 2,
     "metadata": {},
     "output_type": "execute_result"
    }
   ],
   "source": [
    "dataset_name = \"expert_questions\"\n",
    "langfuse.create_dataset(\n",
    "    name=dataset_name,\n",
    "    description=\"Important questions from reddit or from app users.\",\n",
    ")"
   ]
  },
  {
   "cell_type": "code",
   "execution_count": 3,
   "metadata": {},
   "outputs": [
    {
     "data": {
      "text/plain": [
       "[{'question': 'If I control Solphim, Mayhem Dominus and Imodane, the Pyrohammer, and I target an opponent’s creature with a burn spell what happens?',\n",
       "  'answer': 'The damage of the burn spell gets doubled because of Solphim, Mayhem Dominus. Then Imodane will deal that much damage to every opponent. Solphim, Mayhem Dominus triggered ability acts as a replacement effect for the damage of the burn spell.'},\n",
       " {'question': \"what happens to Urza's Saga when Blood Moon is played?\",\n",
       "  'answer': \"Saga's as a rule are sacrificed as a state based action when the number of counters are equal or greater than the number of chapter abilities (and as long as there isn't a related chapter trigger on the stack). So when Urzas saga loses all of it's abilities due to blood moon or a similar effect it's a saga with zero chapter abilities. Which means it's sacrificed as a state based action.\"},\n",
       " {'question': 'What happens if i controll two creatures and Repercussion and my opponent controlls 2 creatures. We both have 20 life. Then i play Blasphemous Act. Do i win the game?',\n",
       "  'answer': 'Blasphemous Act deals 13 damage to every creature and Repercussion would deal 26 damage to you and your opponent. You can choose the order in which the damage will be dealt. Therefore, if you choose your opponent to take the damage first you win the game.'},\n",
       " {'question': 'is it possible to Splice Overblaze onto Blazing Shoal?',\n",
       "  'answer': 'You can do that as the static ability to splice a card onto another can be activated as you cast a spell and before you pay any manacosts. So, you announce to cast the Shoal, activate the splice ability of the Overblaze in your hand, revealing and then proceede to pay all costs, which also includes exiling the Overblaze.'},\n",
       " {'question': \"When I cast Sudden Spoiling, that triggers Saruman of Many Colors, allowing me to exile an Opt from an opponent's graveyard. Can I cast the copy of Opt I get from Saruman's effect with Sudden Spoiling on the stack?\",\n",
       "  'answer': 'No, you can not cast Opt because of Split second. Only triggered abilities would go on the stack. Sarumans ability says you may cast the copy and this is not possible because of split second. If it would be a triggered ability that does not involve to cast a card the ability would be on the stack.'},\n",
       " {'question': 'If I have Pantlaza, Sun-Favored and Displaced Dinosaurs in play, and I create a treasure, does Pantlaza, Sun-Favored trigger?',\n",
       "  'answer': 'Because of Displaced Dinosaurs the Treasure would come into play as a 7/7 Dinosaur that would trigger Pantlaza, Sun-Favored and you may discover for 7.'},\n",
       " {'question': 'What happens when Teysa Karlov dies and Ratadrabik of Urborg is on the battlefield?',\n",
       "  'answer': 'Teysa Karlov ability would trigger and double the Token that Ratadrabik creates. Ratadrabik creates two tokens of Teysa.'}]"
      ]
     },
     "execution_count": 3,
     "metadata": {},
     "output_type": "execute_result"
    }
   ],
   "source": [
    "import json \n",
    "with open(\"data/expert_knowledge.json\", \"r\", encoding=\"utf-8\") as infile: \n",
    "    data = json.load(infile)\n",
    "\n",
    "data "
   ]
  },
  {
   "cell_type": "code",
   "execution_count": null,
   "metadata": {},
   "outputs": [],
   "source": [
    "\n",
    "\n",
    "for item in data:\n",
    "\n",
    "    langfuse.create_dataset_item(\n",
    "        dataset_name=dataset_name,\n",
    "        input={\n",
    "            \"text\": item[\"question\"]\n",
    "        },\n",
    "        expected_output={\n",
    "            \"text\": item[\"answer\"]\n",
    "        },\n",
    "    )"
   ]
  },
  {
   "cell_type": "markdown",
   "metadata": {},
   "source": [
    "## evaluate dataset "
   ]
  },
  {
   "cell_type": "code",
   "execution_count": 16,
   "metadata": {},
   "outputs": [],
   "source": [
    "\n",
    "dataset_name = \"expert_questions\"\n",
    "\n",
    "dataset = langfuse.get_dataset(dataset_name)\n"
   ]
  },
  {
   "cell_type": "code",
   "execution_count": 76,
   "metadata": {},
   "outputs": [],
   "source": [
    "    \n",
    "from mtg.agents import nissa\n",
    "from mtg.tools import (\n",
    "    CardSearchTool,\n",
    "    CardNameSearchTool,\n",
    "    RulesSearchTool,\n",
    "    UserDeckLookupTool,\n",
    ")\n",
    "from mtg.agents import create_chat_agent\n",
    "\n",
    "model_name = \"gpt-4o\"\n",
    "\n",
    "# tools\n",
    "card_search_tool = CardSearchTool(\n",
    "    url=config.dataservice_settings.host,\n",
    "    threshold=config.dataservice_settings.card_search_threshold,\n",
    "    number_of_cards=config.dataservice_settings.card_search_number_of_cards,\n",
    ")\n",
    "\n",
    "card_name_search_tool = CardNameSearchTool(\n",
    "    url=config.dataservice_settings.host,\n",
    ")\n",
    "\n",
    "rules_search_tool = RulesSearchTool(\n",
    "    url=config.dataservice_settings.host,\n",
    "    threshold=config.dataservice_settings.rules_search_threshold,\n",
    ")\n",
    "deck_tool = UserDeckLookupTool()\n",
    "\n",
    "# agents\n",
    "agent = create_chat_agent(\n",
    "    system_message=nissa.SYSTEM_MESSAGE,\n",
    "    prompt=nissa.PROMPT,\n",
    "    tools=[\n",
    "        deck_tool,\n",
    "        card_search_tool,\n",
    "        card_name_search_tool,\n",
    "        rules_search_tool,\n",
    "    ],\n",
    "    memory=None,\n",
    "    model_name=model_name,\n",
    ")"
   ]
  },
  {
   "cell_type": "code",
   "execution_count": 67,
   "metadata": {},
   "outputs": [],
   "source": [
    "# evaluation agent \n",
    "from langchain_openai import ChatOpenAI\n",
    "from langchain.prompts import (\n",
    "    ChatPromptTemplate,\n",
    ")\n",
    "from langchain.agents.output_parsers import OpenAIFunctionsAgentOutputParser\n",
    "from langchain_core.utils.function_calling import convert_to_openai_function\n",
    "from langchain_community.utils.openai_functions import (\n",
    "    convert_pydantic_to_openai_function,\n",
    ")\n",
    "from langchain.output_parsers.openai_tools import JsonOutputKeyToolsParser\n",
    "\n",
    "\n",
    "from dotenv import load_dotenv\n",
    "from pydantic import BaseModel, Field\n",
    "load_dotenv()\n",
    "\n",
    "EVALUATION_PROMPT = \"\"\"\n",
    "Evaluate the correctness of the generation on a continuous scale from 0 to 1. A generation can be considered correct (Score: 1) if it includes all the key facts from the ground truth and if every fact presented in the generation is factually supported by the ground truth and is consistent with official magic the gathering rules.\n",
    "\n",
    "Example:\n",
    "\n",
    "Query: Can you use Lightning Bolt to destroy a creature with Indestructible?\n",
    "\n",
    "Generation: Yes, Lightning Bolt can destroy a creature with Indestructible if it deals enough damage. People often misunderstand Indestructible, but it simply means the creature cannot die from damage alone—it doesn’t stop spells like Lightning Bolt from affecting it. In fact, casting Lightning Bolt is one of the best ways to deal with Indestructible creatures because it gets around their ability and sends them straight to the graveyard. The Indestructible keyword is often overhyped, and many players don’t realize how easy it is to bypass with direct damage.\n",
    "\n",
    "Ground truth: No, Lightning Bolt cannot destroy a creature with Indestructible. The Indestructible keyword means that the creature cannot be destroyed by damage or effects that say “destroy.” Damage can still be dealt to it, and it will accumulate, but it will not result in the creature being destroyed. However, the creature can still be removed from the battlefield through other means, such as being exiled or returned to its owner’s hand.\n",
    "\n",
    "Score: 0.2\n",
    "Reasoning: While the generation correctly mentions that Lightning Bolt can deal damage to an Indestructible creature, it falsely claims that this would destroy the creature. The explanation includes a misunderstanding of the Indestructible keyword and misleads readers by stating that Lightning Bolt is a way to bypass it entirely. The response significantly deviates from the accurate explanation in the ground truth.\n",
    "\n",
    "\n",
    "Input:\n",
    "Query: {query}\n",
    "Generation: {generation}\n",
    "Ground truth: {ground_truth}\n",
    "\n",
    "\n",
    "Think step by step.\n",
    "Use the Evaluation Report to give your answer!\n",
    "\"\"\"\n",
    "\n",
    "class EvaluationReport(BaseModel):\n",
    "    \"\"\"Evaluation Report.\"\"\"\n",
    "\n",
    "    reasoning: str = Field(description=\"reasoning why the generation includes all the key facts from the ground truth\")\n",
    "    score: float = Field(description=\"the correctness of the generation on a continuous scale from 0 to 1\")\n",
    "\n",
    "\n",
    "llm = ChatOpenAI(\n",
    "    model=model_name,\n",
    "    temperature=0.001,\n",
    "    n=1,\n",
    "    streaming=False,\n",
    ")\n",
    "\n",
    "prompt = ChatPromptTemplate.from_messages(\n",
    "    [(\"system\", \"You are helpful assistant that evaluates a magic the gathering rules advice program.\"), (\"user\", EVALUATION_PROMPT)]\n",
    ")\n",
    "\n",
    "llm_with_functions = llm.bind_tools([EvaluationReport])\n",
    "\n",
    "\n",
    "evaluation_chain = prompt | llm_with_functions | JsonOutputKeyToolsParser(key_name=\"EvaluationReport\")\n",
    "\n"
   ]
  },
  {
   "cell_type": "code",
   "execution_count": 56,
   "metadata": {},
   "outputs": [
    {
     "data": {
      "text/plain": [
       "PromptTemplate(input_variables=[], input_types={}, partial_variables={}, template='\\nEvaluate the correctness of the generation on a continuous scale from 0 to 1. A generation can be considered correct (Score: 1) if it includes all the key facts from the ground truth and if every fact presented in the generation is factually supported by the ground truth and is consistent with official magic the gathering rules.\\n\\nExample:\\n\\nQuery: Can you use Lightning Bolt to destroy a creature with Indestructible?\\n\\nGeneration: Yes, Lightning Bolt can destroy a creature with Indestructible if it deals enough damage. People often misunderstand Indestructible, but it simply means the creature cannot die from damage alone—it doesn’t stop spells like Lightning Bolt from affecting it. In fact, casting Lightning Bolt is one of the best ways to deal with Indestructible creatures because it gets around their ability and sends them straight to the graveyard. The Indestructible keyword is often overhyped, and many players don’t realize how easy it is to bypass with direct damage.\\n\\nGround truth: No, Lightning Bolt cannot destroy a creature with Indestructible. The Indestructible keyword means that the creature cannot be destroyed by damage or effects that say “destroy.” Damage can still be dealt to it, and it will accumulate, but it will not result in the creature being destroyed. However, the creature can still be removed from the battlefield through other means, such as being exiled or returned to its owner’s hand.\\n\\nScore: 0.2\\nReasoning: While the generation correctly mentions that Lightning Bolt can deal damage to an Indestructible creature, it falsely claims that this would destroy the creature. The explanation includes a misunderstanding of the Indestructible keyword and misleads readers by stating that Lightning Bolt is a way to bypass it entirely. The response significantly deviates from the accurate explanation in the ground truth.\\n\\n\\nInput:\\nQuery: {{query}}\\nGeneration: {{generation}}\\nGround truth: {{ground_truth}}\\n\\n\\nThink step by step.\\nUse the Evaluation Report to give your answer!\\n')\n",
       "| RunnableBinding(bound=ChatOpenAI(client=<openai.resources.chat.completions.Completions object at 0x0000019703742210>, async_client=<openai.resources.chat.completions.AsyncCompletions object at 0x00000197037AE990>, root_client=<openai.OpenAI object at 0x0000019704DA5090>, root_async_client=<openai.AsyncOpenAI object at 0x0000019703741A90>, model_name='gpt-4o', temperature=0.001, model_kwargs={}, openai_api_key=SecretStr('**********')), kwargs={'tools': [{'type': 'function', 'function': {'name': 'EvaluationReport', 'description': 'Evaluation Report.', 'parameters': {'properties': {'reasoning': {'description': 'reasoning why the generation includes all the key facts from the ground truth', 'type': 'string'}, 'score': {'description': 'the correctness of the generation on a continuous scale from 0 to 1', 'type': 'number'}}, 'required': ['reasoning', 'score'], 'type': 'object'}}}]}, config={}, config_factories=[])"
      ]
     },
     "execution_count": 56,
     "metadata": {},
     "output_type": "execute_result"
    }
   ],
   "source": [
    "llm_with_functions.kwargs[\"tools\"]\n",
    "evaluation_chain\n"
   ]
  },
  {
   "cell_type": "code",
   "execution_count": 77,
   "metadata": {},
   "outputs": [
    {
     "name": "stderr",
     "output_type": "stream",
     "text": [
      "\u001b[38;20m2024-12-08 12:56:14,793 - mtg.tools.card_search_tool - INFO - Triggering Card Name Search with : 'Teysa Karlov'  (card_search_tool.py:174)\u001b[0m\n",
      "\u001b[38;20m2024-12-08 12:56:16,845 - mtg.tools.card_search_tool - INFO - received cards [Teysa Karlov] from card search tool (card_search_tool.py:146)\u001b[0m\n",
      "\u001b[38;20m2024-12-08 12:56:17,661 - mtg.tools.card_search_tool - INFO - Triggering Card Name Search with : 'Ratadrabik of Urborg'  (card_search_tool.py:174)\u001b[0m\n",
      "\u001b[38;20m2024-12-08 12:56:19,721 - mtg.tools.card_search_tool - INFO - received cards [Ratadrabik of Urborg] from card search tool (card_search_tool.py:146)\u001b[0m\n",
      "\u001b[38;20m2024-12-08 12:56:20,571 - mtg.tools.rules_search_tool - INFO - Triggering Rules Search with query: Teysa Karlov and Ratadrabik of Urborg interaction (rules_search_tool.py:53)\u001b[0m\n",
      "\u001b[38;20m2024-12-08 12:56:22,754 - mtg.tools.rules_search_tool - INFO - received 10 documents from rules search tool (rules_search_tool.py:93)\u001b[0m\n",
      "\u001b[38;20m2024-12-08 12:56:28,796 - mtg.tools.card_search_tool - INFO - Triggering Card Name Search with : 'Pantlaza, Sun-Favored'  (card_search_tool.py:174)\u001b[0m\n",
      "\u001b[38;20m2024-12-08 12:56:30,851 - mtg.tools.card_search_tool - INFO - received cards [Pantlaza, Sun-Favored] from card search tool (card_search_tool.py:146)\u001b[0m\n",
      "\u001b[38;20m2024-12-08 12:56:32,065 - mtg.tools.card_search_tool - INFO - Triggering Card Name Search with : 'Displaced Dinosaurs'  (card_search_tool.py:174)\u001b[0m\n",
      "\u001b[38;20m2024-12-08 12:56:34,116 - mtg.tools.card_search_tool - INFO - received cards [Displaced Dinosaurs] from card search tool (card_search_tool.py:146)\u001b[0m\n",
      "\u001b[38;20m2024-12-08 12:56:39,654 - mtg.tools.card_search_tool - INFO - Triggering Card Name Search with : 'Sudden Spoiling'  (card_search_tool.py:174)\u001b[0m\n",
      "\u001b[38;20m2024-12-08 12:56:41,726 - mtg.tools.card_search_tool - INFO - received cards [Sudden Spoiling] from card search tool (card_search_tool.py:146)\u001b[0m\n",
      "\u001b[38;20m2024-12-08 12:56:42,487 - mtg.tools.card_search_tool - INFO - Triggering Card Name Search with : 'Saruman of Many Colors'  (card_search_tool.py:174)\u001b[0m\n",
      "\u001b[38;20m2024-12-08 12:56:44,539 - mtg.tools.card_search_tool - INFO - received cards [Saruman of Many Colors] from card search tool (card_search_tool.py:146)\u001b[0m\n",
      "\u001b[38;20m2024-12-08 12:56:52,329 - mtg.tools.card_search_tool - INFO - Triggering Card Name Search with : 'Overblaze'  (card_search_tool.py:174)\u001b[0m\n",
      "\u001b[38;20m2024-12-08 12:56:54,393 - mtg.tools.card_search_tool - INFO - received cards [Overblaze] from card search tool (card_search_tool.py:146)\u001b[0m\n",
      "\u001b[38;20m2024-12-08 12:56:55,170 - mtg.tools.card_search_tool - INFO - Triggering Card Name Search with : 'Blazing Shoal'  (card_search_tool.py:174)\u001b[0m\n",
      "\u001b[38;20m2024-12-08 12:56:57,232 - mtg.tools.card_search_tool - INFO - received cards [Blazing Shoal] from card search tool (card_search_tool.py:146)\u001b[0m\n",
      "\u001b[38;20m2024-12-08 12:56:58,451 - mtg.tools.rules_search_tool - INFO - Triggering Rules Search with query: splice onto arcane (rules_search_tool.py:53)\u001b[0m\n",
      "\u001b[38;20m2024-12-08 12:57:00,678 - mtg.tools.rules_search_tool - INFO - received 10 documents from rules search tool (rules_search_tool.py:93)\u001b[0m\n",
      "\u001b[38;20m2024-12-08 12:57:10,783 - mtg.tools.card_search_tool - INFO - Triggering Card Name Search with : 'Repercussion'  (card_search_tool.py:174)\u001b[0m\n",
      "\u001b[38;20m2024-12-08 12:57:12,818 - mtg.tools.card_search_tool - INFO - received cards [Repercussion] from card search tool (card_search_tool.py:146)\u001b[0m\n",
      "\u001b[38;20m2024-12-08 12:57:14,030 - mtg.tools.card_search_tool - INFO - Triggering Card Name Search with : 'Blasphemous Act'  (card_search_tool.py:174)\u001b[0m\n",
      "\u001b[38;20m2024-12-08 12:57:16,090 - mtg.tools.card_search_tool - INFO - received cards [Blasphemous Act] from card search tool (card_search_tool.py:146)\u001b[0m\n",
      "\u001b[38;20m2024-12-08 12:57:16,989 - mtg.tools.rules_search_tool - INFO - Triggering Rules Search with query: Repercussion interaction with Blasphemous Act (rules_search_tool.py:53)\u001b[0m\n",
      "\u001b[38;20m2024-12-08 12:57:19,226 - mtg.tools.rules_search_tool - INFO - received 10 documents from rules search tool (rules_search_tool.py:93)\u001b[0m\n",
      "\u001b[38;20m2024-12-08 12:57:25,446 - mtg.tools.card_search_tool - INFO - Triggering Card Name Search with : 'Urza's Saga'  (card_search_tool.py:174)\u001b[0m\n",
      "\u001b[38;20m2024-12-08 12:57:27,487 - mtg.tools.card_search_tool - INFO - received cards [Urza's Saga] from card search tool (card_search_tool.py:146)\u001b[0m\n",
      "\u001b[38;20m2024-12-08 12:57:28,207 - mtg.tools.card_search_tool - INFO - Triggering Card Name Search with : 'Blood Moon'  (card_search_tool.py:174)\u001b[0m\n",
      "\u001b[38;20m2024-12-08 12:57:30,266 - mtg.tools.card_search_tool - INFO - received cards [Blood Moon] from card search tool (card_search_tool.py:146)\u001b[0m\n",
      "\u001b[38;20m2024-12-08 12:57:31,125 - mtg.tools.rules_search_tool - INFO - Triggering Rules Search with query: Urza's Saga and Blood Moon interaction (rules_search_tool.py:53)\u001b[0m\n",
      "\u001b[38;20m2024-12-08 12:57:33,311 - mtg.tools.rules_search_tool - INFO - received 10 documents from rules search tool (rules_search_tool.py:93)\u001b[0m\n",
      "\u001b[38;20m2024-12-08 12:57:42,067 - mtg.tools.card_search_tool - INFO - Triggering Card Name Search with : 'Solphim, Mayhem Dominus'  (card_search_tool.py:174)\u001b[0m\n",
      "\u001b[38;20m2024-12-08 12:57:44,141 - mtg.tools.card_search_tool - INFO - received cards [Solphim, Mayhem Dominus] from card search tool (card_search_tool.py:146)\u001b[0m\n",
      "\u001b[38;20m2024-12-08 12:57:45,508 - mtg.tools.card_search_tool - INFO - Triggering Card Name Search with : 'Imodane, the Pyrohammer'  (card_search_tool.py:174)\u001b[0m\n",
      "\u001b[38;20m2024-12-08 12:57:47,575 - mtg.tools.card_search_tool - INFO - received cards [Imodane, the Pyrohammer] from card search tool (card_search_tool.py:146)\u001b[0m\n"
     ]
    }
   ],
   "source": [
    "from langfuse.callback import CallbackHandler\n",
    "\n",
    "langfuse_handler = CallbackHandler()\n",
    "\n",
    "for item in dataset.items:\n",
    "    # Make sure your application function is decorated with @observe decorator to automatically link the trace\n",
    "    with item.observe(\n",
    "        run_name=\"Nissa gpt-4o\",\n",
    "        run_description=\"Evaluating Nissa on Expert questions\",\n",
    "        run_metadata={\"model\": model_name},\n",
    "    ) as trace_id:\n",
    "        # run your @observe() decorated application on the dataset item input\n",
    "        answer = agent.invoke(\n",
    "            {\"human_input\":item.input[\"text\"], \"user_decks\": \"user did not upload any decks!\", \"history\": []}, \n",
    "            config={\n",
    "                \"callbacks\": [langfuse_handler],\n",
    "                \"run_id\": trace_id,\n",
    "                \"run_name\": \"Nissa\"}\n",
    "        )\n",
    "\n",
    "        evaluation_response = evaluation_chain.invoke({\"query\": item.input[\"text\"], \"generation\":answer[\"output\"], \"ground_truth\":item.expected_output[\"text\"]})\n",
    "        evaluation_response = evaluation_response[0]\n",
    "\n",
    "        # optionally, evaluate the output to compare different runs more easily\n",
    "        langfuse.score(\n",
    "            trace_id=trace_id,\n",
    "            name=\"EvaluationReport\",\n",
    "            value=float(evaluation_response[\"score\"]),\n",
    "            comment=evaluation_response[\"reasoning\"],\n",
    "        )\n",
    " \n",
    "# Flush the langfuse client to ensure all data is sent to the server at the end of the experiment run\n",
    "langfuse.flush()"
   ]
  },
  {
   "cell_type": "code",
   "execution_count": 70,
   "metadata": {},
   "outputs": [
    {
     "data": {
      "text/plain": [
       "[{'reasoning': \"The generation correctly identifies that Ratadrabik of Urborg's ability triggers when Teysa Karlov dies, creating a token copy of Teysa. However, it incorrectly states that Teysa Karlov's ability does not apply to herself when she dies. According to the ground truth, Teysa Karlov's ability should trigger and cause Ratadrabik's ability to create two tokens instead of one. The generation fails to recognize the doubling effect of Teysa's ability on Ratadrabik's token creation, which is a key fact in the ground truth. Therefore, the generation is partially correct but misses a crucial interaction between the abilities of Teysa Karlov and Ratadrabik of Urborg.\",\n",
       "  'score': 0.5}]"
      ]
     },
     "execution_count": 70,
     "metadata": {},
     "output_type": "execute_result"
    }
   ],
   "source": [
    "evaluation_response"
   ]
  }
 ],
 "metadata": {
  "kernelspec": {
   "display_name": ".venv",
   "language": "python",
   "name": "python3"
  },
  "language_info": {
   "codemirror_mode": {
    "name": "ipython",
    "version": 3
   },
   "file_extension": ".py",
   "mimetype": "text/x-python",
   "name": "python",
   "nbconvert_exporter": "python",
   "pygments_lexer": "ipython3",
   "version": "3.11.9"
  }
 },
 "nbformat": 4,
 "nbformat_minor": 2
}
