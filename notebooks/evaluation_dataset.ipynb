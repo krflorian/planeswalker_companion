{
 "cells": [
  {
   "cell_type": "code",
   "execution_count": null,
   "metadata": {},
   "outputs": [],
   "source": [
    "from langfuse import Langfuse\n",
    "from mtg.utils import load_config\n",
    "\n",
    "\n",
    "config = load_config(\"configs/config.yaml\")\n",
    "\n",
    "\n",
    "langfuse = Langfuse()\n"
   ]
  }
 ],
 "metadata": {
  "kernelspec": {
   "display_name": ".venv",
   "language": "python",
   "name": "python3"
  },
  "language_info": {
   "name": "python",
   "version": "3.11.9"
  }
 },
 "nbformat": 4,
 "nbformat_minor": 2
}
