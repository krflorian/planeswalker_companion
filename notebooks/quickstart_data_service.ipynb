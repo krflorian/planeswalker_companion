{
 "cells": [
  {
   "cell_type": "code",
   "execution_count": 1,
   "metadata": {},
   "outputs": [],
   "source": [
    "from mtg.data_handler.data_service import DataService\n",
    "\n",
    "data_service = DataService()\n"
   ]
  },
  {
   "cell_type": "code",
   "execution_count": 2,
   "metadata": {},
   "outputs": [
    {
     "data": {
      "text/plain": [
       "[Card(Chatterfang, Squirrel General),\n",
       " Card(Forge of Heroes),\n",
       " Card(Whisper Squad),\n",
       " Card(A-Elderfang Ritualist),\n",
       " Card(Feywild Visitor)]"
      ]
     },
     "execution_count": 2,
     "metadata": {},
     "output_type": "execute_result"
    }
   ],
   "source": [
    "\n",
    "cards = data_service.get_cards(\n",
    "    \"what cards can i add to my chatterfang commander deck?\"\n",
    ")\n",
    "\n",
    "cards\n"
   ]
  },
  {
   "cell_type": "code",
   "execution_count": 3,
   "metadata": {},
   "outputs": [
    {
     "data": {
      "text/plain": [
       "[Rule(text=' Deathtouch is a static ability.\\n', rule_id='702.2a', chapter='702. Keyword Abilities', examples=[], subchapter='702.2.  Deathtouch\\n'),\n",
       " Rule(text='Deathtouch\\nA keyword ability that causes damage dealt by an object to be especially effective. See rule 702.2, “Deathtouch.”', rule_id='Deathtouch', chapter='Glossary', examples=[], subchapter=None),\n",
       " Rule(text=' A creature with toughness greater than 0 that’s been dealt damage by a source with deathtouch since the last time state-based actions were checked is destroyed as a state-based action. See rule 704.\\n', rule_id='702.2b', chapter='702. Keyword Abilities', examples=[], subchapter='702.2.  Deathtouch\\n'),\n",
       " Rule(text=' Multiple instances of deathtouch on the same object are redundant.\\n', rule_id='702.2f', chapter='702. Keyword Abilities', examples=[], subchapter='702.2.  Deathtouch\\n'),\n",
       " Rule(text=' Any nonzero amount of combat damage assigned to a creature by a source with deathtouch is considered to be lethal damage for the purposes of determining if a proposed combat damage assignment is valid, regardless of that creature’s toughness. See rules 510.1c–d.\\n', rule_id='702.2c', chapter='702. Keyword Abilities', examples=[], subchapter='702.2.  Deathtouch\\n')]"
      ]
     },
     "execution_count": 3,
     "metadata": {},
     "output_type": "execute_result"
    }
   ],
   "source": [
    "\n",
    "rules = data_service.get_rules(\n",
    "    \"what is deathtouch\", k=5, lasso_threshold=0.05\n",
    ")\n",
    "\n",
    "rules\n"
   ]
  }
 ],
 "metadata": {
  "kernelspec": {
   "display_name": ".venv",
   "language": "python",
   "name": "python3"
  },
  "language_info": {
   "codemirror_mode": {
    "name": "ipython",
    "version": 3
   },
   "file_extension": ".py",
   "mimetype": "text/x-python",
   "name": "python",
   "nbconvert_exporter": "python",
   "pygments_lexer": "ipython3",
   "version": "3.9.2"
  }
 },
 "nbformat": 4,
 "nbformat_minor": 2
}
